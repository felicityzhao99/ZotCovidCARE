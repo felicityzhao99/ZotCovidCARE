{
 "cells": [
  {
   "cell_type": "code",
   "execution_count": 1,
   "metadata": {},
   "outputs": [],
   "source": [
    "from urllib.request import urlopen\n",
    "from bs4 import BeautifulSoup\n",
    "import re, math"
   ]
  },
  {
   "cell_type": "code",
   "execution_count": 2,
   "metadata": {},
   "outputs": [],
   "source": [
    "title_link = {}"
   ]
  },
  {
   "cell_type": "code",
   "execution_count": 3,
   "metadata": {},
   "outputs": [],
   "source": [
    "def remove_u(word):\n",
    "    word_u = (word.encode('unicode-escape')).decode(\"utf-8\", \"strict\")\n",
    "    if r'\\u' in word_u: \n",
    "        return word_u.split('\\\\u')[1]\n",
    "    return word"
   ]
  },
  {
   "cell_type": "markdown",
   "metadata": {},
   "source": [
    "### 2021 Page"
   ]
  },
  {
   "cell_type": "code",
   "execution_count": 4,
   "metadata": {},
   "outputs": [
    {
     "name": "stdout",
     "output_type": "stream",
     "text": [
      "<title>\r\n",
      "\tNews in 2021 |  UCI Health | Orange County, CA\r\n",
      "</title>\n"
     ]
    }
   ],
   "source": [
    "urls = [\"https://www.ucihealth.org/news/2021\"]\n",
    "html = urlopen(urls[0])\n",
    "soup = BeautifulSoup(html)\n",
    "\n",
    "title = soup.title\n",
    "print(title)"
   ]
  },
  {
   "cell_type": "code",
   "execution_count": 5,
   "metadata": {},
   "outputs": [
    {
     "name": "stdout",
     "output_type": "stream",
     "text": [
      "['https://www.ucihealth.org/news/2021', 'https://www.ucihealth.org/news/2021?page=2']\n"
     ]
    }
   ],
   "source": [
    "links = soup.find_all('a', {\"href\":True})\n",
    "for link in links:\n",
    "    str_link = link.get(\"href\")\n",
    "    if str_link[:15] == \"/news/2021?page\": \n",
    "        full_link = \"https://www.ucihealth.org\" + str_link\n",
    "        if full_link not in urls:\n",
    "            urls.append(full_link)\n",
    "print(urls)"
   ]
  },
  {
   "cell_type": "code",
   "execution_count": 6,
   "metadata": {},
   "outputs": [
    {
     "name": "stdout",
     "output_type": "stream",
     "text": [
      "{'UCI Health study in JAMA Network examines COVID-19 outcomes and mortality among hospitalized adults': '/news/2021/03/covid-outcomes-study', \"USA Today highlights UCI Health neurologist's commitment to finding treatment for ALS\": '/news/2021/03/usa-today-goyal-als-treatment', 'Can endocannabinoids improve life expectancy in dialysis patients?': '/news/2021/03/endocannabinoids-and-dialysis', 'UCI Health analysis shows increase in penetrating trauma related to COVID-19 stay-at-home changes': '/news/2021/03/trauma-increase-and-covid19', 'New mobile site aids clinicians treating patients diagnosed with dementia': '/news/2021/03/dementia-app-for-doctors', 'UCI Medical Center recognized among the country’s Best Maternity Care Hospitals': '/news/2021/02/best-maternity-hospital', 'UCI Medical Center is the first hospital on the West Coast to use portable MRI technology': '/news/2021/01/portablemri', 'UCI to build world-class hospital on Irvine campus': '/news/2021/01/new-uci-health-hospital', 'UCI campus COVID-19 patient vaccination site opens': '/news/2021/01/uci-campus-covid-19-patient-vaccination-site-opens', 'UCI team at work on preemptive vaccine for all coronaviruses': '/news/2021/01/uci-team-at-work-on-vaccine-for-all-coronaviruses', 'Raising the bar on excellence': '/news/2021/01/2021-uci-health-physicians-of-excellence'}\n"
     ]
    }
   ],
   "source": [
    "links_2021 = []\n",
    "titles_2021 = []\n",
    "for u in urls:\n",
    "    html_u = urlopen(u)\n",
    "    soup_u = BeautifulSoup(html_u)\n",
    "    title_u = soup_u.title\n",
    "    length_links = 0\n",
    "    \n",
    "    links = soup_u.find_all('h4')\n",
    "    for link in links:\n",
    "        str_link = link.find(\"a\", {\"href\":True})\n",
    "        if str_link != None:\n",
    "            link_2021 = str_link.get(\"href\")\n",
    "            links_2021.append(link_2021)\n",
    "        \n",
    "            str_title = link.get_text().strip()\n",
    "            titles_2021.append(str_title)\n",
    "            title_link[str_title] = link_2021\n",
    "\n",
    "print(title_link)"
   ]
  },
  {
   "cell_type": "markdown",
   "metadata": {},
   "source": [
    "## 2020 Page "
   ]
  },
  {
   "cell_type": "code",
   "execution_count": 7,
   "metadata": {},
   "outputs": [
    {
     "name": "stdout",
     "output_type": "stream",
     "text": [
      "<title>\r\n",
      "\tNews in 2020 |  UCI Health | Orange County, CA\r\n",
      "</title>\n"
     ]
    }
   ],
   "source": [
    "urls = [\"https://www.ucihealth.org/news/2020\"]\n",
    "html = urlopen(urls[0])\n",
    "soup = BeautifulSoup(html)\n",
    "\n",
    "title = soup.title\n",
    "print(title)"
   ]
  },
  {
   "cell_type": "code",
   "execution_count": 8,
   "metadata": {},
   "outputs": [
    {
     "name": "stdout",
     "output_type": "stream",
     "text": [
      "['https://www.ucihealth.org/news/2020', 'https://www.ucihealth.org/news/2020?page=2', 'https://www.ucihealth.org/news/2020?page=3', 'https://www.ucihealth.org/news/2020?page=4']\n"
     ]
    }
   ],
   "source": [
    "links = soup.find_all('a', {\"href\":True})\n",
    "for link in links:\n",
    "    str_link = link.get(\"href\")\n",
    "    if str_link[:15] == \"/news/2020?page\": \n",
    "        full_link = \"https://www.ucihealth.org\" + str_link\n",
    "        if full_link not in urls:\n",
    "            urls.append(full_link)\n",
    "print(urls)"
   ]
  },
  {
   "cell_type": "code",
   "execution_count": 9,
   "metadata": {},
   "outputs": [
    {
     "name": "stdout",
     "output_type": "stream",
     "text": [
      "{'UCI Health study in JAMA Network examines COVID-19 outcomes and mortality among hospitalized adults': '/news/2021/03/covid-outcomes-study', \"USA Today highlights UCI Health neurologist's commitment to finding treatment for ALS\": '/news/2021/03/usa-today-goyal-als-treatment', 'Can endocannabinoids improve life expectancy in dialysis patients?': '/news/2021/03/endocannabinoids-and-dialysis', 'UCI Health analysis shows increase in penetrating trauma related to COVID-19 stay-at-home changes': '/news/2021/03/trauma-increase-and-covid19', 'New mobile site aids clinicians treating patients diagnosed with dementia': '/news/2021/03/dementia-app-for-doctors', 'UCI Medical Center recognized among the country’s Best Maternity Care Hospitals': '/news/2021/02/best-maternity-hospital', 'UCI Medical Center is the first hospital on the West Coast to use portable MRI technology': '/news/2021/01/portablemri', 'UCI to build world-class hospital on Irvine campus': '/news/2021/01/new-uci-health-hospital', 'UCI campus COVID-19 patient vaccination site opens': '/news/2021/01/uci-campus-covid-19-patient-vaccination-site-opens', 'UCI team at work on preemptive vaccine for all coronaviruses': '/news/2021/01/uci-team-at-work-on-vaccine-for-all-coronaviruses', 'Raising the bar on excellence': '/news/2021/01/2021-uci-health-physicians-of-excellence', \"Anaheim fire paramedic who survives COVID-19 warns against New Years' parties\": '/news/2020/12/fire-captain-who-survived-covid-19-warns-against-new-years-parties', 'UCI Health sets up field hospital to handle surge of patients': '/news/2020/12/uci-health-sets-up-field-hospital', 'The Leapfrog Group gives UCI Health 13th \"A\" grade in patient safety': '/news/2020/12/uci-health-receives-13th-consecutive-leapfrog-award', 'UCI Health receives COVID-19 vaccine': '/news/2020/12/uci-health-receives-covid-19-vaccines', 'Can children play sports safely during a pandemic?': '/news/2020/11/in-the-news-indoor-sports-and-covid', 'UCI clinical trials leader named ‘Giant of Cancer Care’': '/news/2020/11/obrien-named-giant-of-cancer-care', 'Antibody screening shows COVID-19 nearly 7 times more prevalent in O.C. than expected': '/news/2020/10/antibody-testing-reveals-wider-covid-spread-in-orange-county', 'UCI Anti-Cancer Challenge participants fund 15 grants': '/news/2020/08/uci-anti-cancer-challenge-participants-fund-15-grant-awards', 'UCI Health — Newport Beach offers science-based integrative health': '/news/2020/08/newport-beach-clinic-offers-integrative-health-services', 'New UCI Health advanced care center to offer greater access to world-class care': '/news/2020/08/center-for-advanced-care-to-open-on-irvine-campus', 'UCI Medical Center among America’s Best Hospitals for 20 consecutive years': '/news/2020/07/uci-medical-center-among-americas-best-hospitals-for-20-consecutive-years', 'UCI Anti-Cancer Challenge goes virtual for 2020': '/news/2020/07/uci-anti-cancer-challenge-goes-virtual-for-2020', 'Providing choice for patients facing kidney failure': '/news/2020/07/providing-choice-for-patients-facing-kidney-failure', 'UCI Health clinical trial targets recurrent AML': '/news/2020/07/uci-health-clinical-trial-targets-recurrent-aml', 'UCI Health doctor answers COVID-19 questions on ABC7': '/news/2020/07/in-the-news-uci-health-expert-talks-about-covid-on-abc7', 'UCI Health urges extra caution for July 4th gatherings as COVID-19 numbers rise': '/news/2020/07/4th-of-july-covid-safety-precautions', 'My UCI Health now includes GPS-guided navigation for patients, visitors': '/news/2020/06/my-uci-health-gps-guided-navigation-patients-visitors', 'Dr. Nasim Afsar named a leading Orange County woman in healthcare for 2020': '/news/2020/06/news-dr-nasim-afsar-named-woman-in-health-2020', 'COVID-19 protective gear donations': '/news/2020/06/news-covid19-protective-gear-donations', 'UCI Health to test drug for critically ill COVID-19 patients': '/news/2020/05/aviptadil-covid-clinical-trial', 'Tu Foundation gives $2.5 million for COVID-19 patient care, research': '/news/2020/05/covid19-care-and-research-donation', 'UCI Health first in Orange County to offer ventricular assist devices for patients with end-stage heart failure': '/news/2020/04/first-in-orange-county-to-offer-left-ventricular-assist-device', 'UCI launches COVID-19 resources site': '/news/2020/04/uci-launches-covid19-resources-site', 'Caring for COVID-19 at home': '/news/2020/04/home-care-for-covid', 'When to see a doctor about COVID-19': '/news/2020/04/when-to-see-a-doctor-about-covid', '2020 UCI Anti-Cancer Challenge Moves to October': '/news/2020/04/anti-cancer-challenge-rescheduled', 'Longtime healthcare leader named CEO of UCI Health': '/news/2020/04/chad-lefteris-named-uci-health-ceo', 'UCI Health team initiates effort to build ‘bridge’ ventilators': '/news/2020/04/covid-ventilator-design', 'How we protect cancer patients from COVID-19': '/news/2020/03/covid-cancer-patients', 'What does social distancing mean?': '/news/2020/03/covid-social-distancing', 'UCI Health launches therapeutic clinical trial for COVID-19': '/news/2020/03/covid19-therapy-clinical-trial-opens', 'Disinfecting your home to kill viruses': '/news/2020/03/covid-disinfection', 'Blood donors needed to ease COVID-19-spurred supply shortage': '/news/2020/03/covid-blood-donation', 'Protecting seniors and the vulnerable from COVID-19': '/news/2020/03/covid-seniors', 'Coping with the stress of COVID-19': '/news/2020/03/covid-19-anxiety', 'UCI Health OnCall app launched to provide telehealth services to region': '/news/2020/01/uci-health-launches-oncall'}\n"
     ]
    }
   ],
   "source": [
    "links_2020 = []\n",
    "titles_2020 = []\n",
    "for u in urls:\n",
    "    html_u = urlopen(u)\n",
    "    soup_u = BeautifulSoup(html_u)\n",
    "    title_u = soup_u.title\n",
    "    length_links = 0\n",
    "    \n",
    "    links = soup_u.find_all('h4')\n",
    "    for link in links:\n",
    "        str_link = link.find(\"a\", {\"href\":True})\n",
    "        if str_link != None:\n",
    "            link_2020 = str_link.get(\"href\")\n",
    "            links_2020.append(link_2020)\n",
    "        \n",
    "            str_title = link.get_text().strip()\n",
    "            titles_2020.append(str_title)\n",
    "            title_link[str_title] = link_2020\n",
    "\n",
    "print(title_link)"
   ]
  },
  {
   "cell_type": "code",
   "execution_count": 11,
   "metadata": {},
   "outputs": [],
   "source": [
    "final_list = []\n",
    "for k,v in title_link.items():\n",
    "    temp_dict = {}\n",
    "    temp_dict[\"title\"] = k\n",
    "    temp_dict[\"link\"] = \"https://www.ucihealth.org\" + v\n",
    "    final_list.append(temp_dict)"
   ]
  },
  {
   "cell_type": "code",
   "execution_count": 12,
   "metadata": {},
   "outputs": [],
   "source": [
    "with open(\"title_links.json\", \"w\") as outfile:  \n",
    "    json.dump(final_list, outfile) "
   ]
  },
  {
   "cell_type": "code",
   "execution_count": null,
   "metadata": {},
   "outputs": [],
   "source": []
  }
 ],
 "metadata": {
  "hide_input": false,
  "kernelspec": {
   "display_name": "Python 3",
   "language": "python",
   "name": "python3"
  },
  "language_info": {
   "codemirror_mode": {
    "name": "ipython",
    "version": 3
   },
   "file_extension": ".py",
   "mimetype": "text/x-python",
   "name": "python",
   "nbconvert_exporter": "python",
   "pygments_lexer": "ipython3",
   "version": "3.7.4"
  },
  "varInspector": {
   "cols": {
    "lenName": 16,
    "lenType": 16,
    "lenVar": 40
   },
   "kernels_config": {
    "python": {
     "delete_cmd_postfix": "",
     "delete_cmd_prefix": "del ",
     "library": "var_list.py",
     "varRefreshCmd": "print(var_dic_list())"
    },
    "r": {
     "delete_cmd_postfix": ") ",
     "delete_cmd_prefix": "rm(",
     "library": "var_list.r",
     "varRefreshCmd": "cat(var_dic_list()) "
    }
   },
   "types_to_exclude": [
    "module",
    "function",
    "builtin_function_or_method",
    "instance",
    "_Feature"
   ],
   "window_display": false
  }
 },
 "nbformat": 4,
 "nbformat_minor": 4
}
