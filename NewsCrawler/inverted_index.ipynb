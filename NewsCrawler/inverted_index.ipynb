{
 "cells": [
  {
   "cell_type": "code",
   "execution_count": 1,
   "metadata": {},
   "outputs": [],
   "source": [
    "import json\n",
    "from urllib.request import urlopen\n",
    "from bs4 import BeautifulSoup\n",
    "import re\n",
    "from collections import defaultdict"
   ]
  },
  {
   "cell_type": "code",
   "execution_count": 2,
   "metadata": {},
   "outputs": [
    {
     "name": "stderr",
     "output_type": "stream",
     "text": [
      "[nltk_data] Downloading package stopwords to\n",
      "[nltk_data]     /Users/felicityzhao/nltk_data...\n",
      "[nltk_data]   Package stopwords is already up-to-date!\n",
      "[nltk_data] Downloading package wordnet to\n",
      "[nltk_data]     /Users/felicityzhao/nltk_data...\n",
      "[nltk_data]   Package wordnet is already up-to-date!\n"
     ]
    },
    {
     "data": {
      "text/plain": [
       "True"
      ]
     },
     "execution_count": 2,
     "metadata": {},
     "output_type": "execute_result"
    }
   ],
   "source": [
    "import nltk\n",
    "from nltk.tokenize import word_tokenize\n",
    "from nltk.stem import WordNetLemmatizer\n",
    "from sys import getsizeof\n",
    "from nltk.corpus import stopwords\n",
    "nltk.download('stopwords')\n",
    "nltk.download('wordnet')"
   ]
  },
  {
   "cell_type": "code",
   "execution_count": 3,
   "metadata": {},
   "outputs": [],
   "source": [
    "inverted_index = defaultdict(dict)\n",
    "STOP_WORDS = set(stopwords.words('english'))"
   ]
  },
  {
   "cell_type": "code",
   "execution_count": 4,
   "metadata": {},
   "outputs": [],
   "source": [
    "def lemma(word):\n",
    "    lemmatizer = WordNetLemmatizer()\n",
    "    return lemmatizer.lemmatize(word)"
   ]
  },
  {
   "cell_type": "code",
   "execution_count": 5,
   "metadata": {},
   "outputs": [],
   "source": [
    "def remove_u(word):\n",
    "    word_u = (word.encode('unicode-escape')).decode(\"utf-8\", \"strict\")\n",
    "    if r'\\u' in word_u: \n",
    "        return word_u.split('\\\\u')[1]\n",
    "    return word"
   ]
  },
  {
   "cell_type": "code",
   "execution_count": 6,
   "metadata": {},
   "outputs": [
    {
     "name": "stdout",
     "output_type": "stream",
     "text": [
      "UCI Health analysis shows increase in penetrating trauma related to COVID-19 stay-at-home changes\n",
      "2019s Best Maternity Care Hospitals\n",
      "UCI Medical Center is the first hospital on the West Coast to use portable MRI technology\n",
      "UCI to build world-class hospital on Irvine campus\n",
      "UCI campus COVID-19 patient vaccination site opens\n",
      "UCI team at work on preemptive vaccine for all coronaviruses\n",
      "Raising the bar on excellence\n",
      "Anaheim fire paramedic who survives COVID-19 warns against New Years' parties\n",
      "UCI Health sets up field hospital to handle surge of patients\n",
      "The Leapfrog Group gives UCI Health 13th \"A\" grade in patient safety\n",
      "UCI Health receives COVID-19 vaccine\n",
      "Can children play sports safely during a pandemic?\n",
      "2018Giant of Cancer Care\n",
      "Antibody screening shows COVID-19 nearly 7 times more prevalent in O.C. than expected\n",
      "UCI Anti-Cancer Challenge participants fund 15 grants\n",
      "2014 Newport Beach offers science-based integrative health\n",
      "New UCI Health advanced care center to offer greater access to world-class care\n",
      "2019s Best Hospitals for 20 consecutive years\n",
      "UCI Anti-Cancer Challenge goes virtual for 2020\n",
      "Providing choice for patients facing kidney failure\n",
      "UCI Health clinical trial targets recurrent AML\n",
      "UCI Health doctor answers COVID-19 questions on ABC7\n",
      "UCI Health urges extra caution for July 4th gatherings as COVID-19 numbers rise\n",
      "My UCI Health now includes GPS-guided navigation for patients, visitors\n",
      "Dr. Nasim Afsar named a leading Orange County woman in healthcare for 2020\n",
      "COVID-19 protective gear donations\n",
      "UCI Health to test drug for critically ill COVID-19 patients\n",
      "Tu Foundation gives $2.5 million for COVID-19 patient care, research\n",
      "UCI Health first in Orange County to offer ventricular assist devices for patients with end-stage heart failure\n",
      "UCI launches COVID-19 resources site\n",
      "Caring for COVID-19 at home\n",
      "When to see a doctor about COVID-19\n",
      "2020 UCI Anti-Cancer Challenge Moves to October\n",
      "Longtime healthcare leader named CEO of UCI Health\n",
      "2018bridge\n",
      "How we protect cancer patients from COVID-19\n",
      "What does social distancing mean?\n",
      "UCI Health launches therapeutic clinical trial for COVID-19\n",
      "Disinfecting your home to kill viruses\n",
      "Blood donors needed to ease COVID-19-spurred supply shortage\n",
      "Protecting seniors and the vulnerable from COVID-19\n",
      "Coping with the stress of COVID-19\n",
      "UCI Health OnCall app launched to provide telehealth services to region\n"
     ]
    }
   ],
   "source": [
    "#Read json file\n",
    "news_json = open(\"title_links.json\")\n",
    "news = json.load(news_json)\n",
    "for k, v in news.items():\n",
    "    url = \"https://www.ucihealth.org\" + v\n",
    "    html = urlopen(url)\n",
    "    soup = BeautifulSoup(html)\n",
    "    k = remove_u(k)\n",
    "    print(k)\n",
    "    \n",
    "    #Fetch Contents\n",
    "    contents = soup.find_all('p')\n",
    "    article = []\n",
    "    for c in contents:\n",
    "        elem = c.get_text(strip=True)\n",
    "        elem = elem.replace('\\xa0', ' ')\n",
    "        if elem != '':\n",
    "            article.append(elem)\n",
    "    \n",
    "    #all_text to lower case, split by nonalphanumeric characters\n",
    "    for text in article:\n",
    "        text = re.sub(r'[^a-z0-9]', ' ', text.lower())\n",
    "        \n",
    "        for word in text.split():\n",
    "            if len(word) > 2:\n",
    "                word=lemma(word)\n",
    "                if word not in STOP_WORDS:\n",
    "                    if word not in inverted_index:\n",
    "                        word_dict = {k:1}\n",
    "                        inverted_index[word] = word_dict\n",
    "                    else:\n",
    "                        if k in inverted_index[word]:\n",
    "                            inverted_index[word][k] += 1\n",
    "                        else:\n",
    "                            word_dict = {k:1}\n",
    "                            inverted_index[word].update(word_dict)\n",
    "\n"
   ]
  },
  {
   "cell_type": "code",
   "execution_count": null,
   "metadata": {
    "scrolled": false
   },
   "outputs": [],
   "source": [
    "#sort frequencies for each key words\n",
    "final_dict = defaultdict(list)\n",
    "for k,v in inverted_index.items():\n",
    "    sorted_tuples = sorted(v.items(), key=lambda item: -item[1])\n",
    "    final_dict[k] = sorted_tuples\n",
    "    "
   ]
  },
  {
   "cell_type": "code",
   "execution_count": null,
   "metadata": {},
   "outputs": [],
   "source": [
    "with open(\"inverted_index_words.json\", \"w\") as outfile:  \n",
    "    json.dump(final_dict, outfile)"
   ]
  },
  {
   "cell_type": "code",
   "execution_count": null,
   "metadata": {},
   "outputs": [],
   "source": []
  }
 ],
 "metadata": {
  "hide_input": false,
  "kernelspec": {
   "display_name": "Python 3",
   "language": "python",
   "name": "python3"
  },
  "language_info": {
   "codemirror_mode": {
    "name": "ipython",
    "version": 3
   },
   "file_extension": ".py",
   "mimetype": "text/x-python",
   "name": "python",
   "nbconvert_exporter": "python",
   "pygments_lexer": "ipython3",
   "version": "3.7.4"
  },
  "varInspector": {
   "cols": {
    "lenName": 16,
    "lenType": 16,
    "lenVar": 40
   },
   "kernels_config": {
    "python": {
     "delete_cmd_postfix": "",
     "delete_cmd_prefix": "del ",
     "library": "var_list.py",
     "varRefreshCmd": "print(var_dic_list())"
    },
    "r": {
     "delete_cmd_postfix": ") ",
     "delete_cmd_prefix": "rm(",
     "library": "var_list.r",
     "varRefreshCmd": "cat(var_dic_list()) "
    }
   },
   "types_to_exclude": [
    "module",
    "function",
    "builtin_function_or_method",
    "instance",
    "_Feature"
   ],
   "window_display": false
  }
 },
 "nbformat": 4,
 "nbformat_minor": 4
}
