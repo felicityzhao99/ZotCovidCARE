{
 "cells": [
  {
   "cell_type": "code",
   "execution_count": 1,
   "metadata": {},
   "outputs": [],
   "source": [
    "import json\n",
    "from urllib.request import urlopen\n",
    "from bs4 import BeautifulSoup\n",
    "import re\n",
    "from collections import defaultdict"
   ]
  },
  {
   "cell_type": "code",
   "execution_count": 2,
   "metadata": {},
   "outputs": [
    {
     "name": "stderr",
     "output_type": "stream",
     "text": [
      "[nltk_data] Downloading package stopwords to\n",
      "[nltk_data]     /Users/felicityzhao/nltk_data...\n",
      "[nltk_data]   Package stopwords is already up-to-date!\n",
      "[nltk_data] Downloading package wordnet to\n",
      "[nltk_data]     /Users/felicityzhao/nltk_data...\n",
      "[nltk_data]   Package wordnet is already up-to-date!\n"
     ]
    },
    {
     "data": {
      "text/plain": [
       "True"
      ]
     },
     "execution_count": 2,
     "metadata": {},
     "output_type": "execute_result"
    }
   ],
   "source": [
    "import nltk\n",
    "from nltk.tokenize import word_tokenize\n",
    "from nltk.stem import WordNetLemmatizer\n",
    "from sys import getsizeof\n",
    "from nltk.corpus import stopwords\n",
    "nltk.download('stopwords')\n",
    "nltk.download('wordnet')"
   ]
  },
  {
   "cell_type": "code",
   "execution_count": 3,
   "metadata": {},
   "outputs": [],
   "source": [
    "inverted_index = {}\n",
    "STOP_WORDS = set(stopwords.words('english'))"
   ]
  },
  {
   "cell_type": "code",
   "execution_count": 4,
   "metadata": {},
   "outputs": [],
   "source": [
    "def lemma(word):\n",
    "    lemmatizer = WordNetLemmatizer()\n",
    "    return lemmatizer.lemmatize(word)"
   ]
  },
  {
   "cell_type": "code",
   "execution_count": null,
   "metadata": {},
   "outputs": [],
   "source": [
    "def remove_u(word):\n",
    "    word_u = (word.encode('unicode-escape')).decode(\"utf-8\", \"strict\")\n",
    "    if r'\\u' in word_u: \n",
    "        return word_u.split('\\\\u')[1]\n",
    "    return word"
   ]
  },
  {
   "cell_type": "code",
   "execution_count": null,
   "metadata": {},
   "outputs": [],
   "source": [
    "#Read json file\n",
    "news_json = open(\"title_links.json\")\n",
    "news = json.load(news_json)\n",
    "for item in news:\n",
    "    k,v = item[\"title\"], item[\"link\"]\n",
    "    url = v\n",
    "    html = urlopen(url)\n",
    "    soup = BeautifulSoup(html)\n",
    "    k = remove_u(k)\n",
    "    \n",
    "    #Fetch Contents\n",
    "    contents = soup.find_all('p')\n",
    "    article = []\n",
    "    for c in contents:\n",
    "        elem = c.get_text(strip=True)\n",
    "        elem = elem.replace('\\xa0', ' ')\n",
    "        if elem != '':\n",
    "            article.append(elem)\n",
    "    \n",
    "    #all_text to lower case, split by nonalphanumeric characters\n",
    "    for text in article:\n",
    "        text = re.sub(r'[^a-z0-9]', ' ', text.lower())\n",
    "        \n",
    "        for word in text.split():\n",
    "            if len(word) > 2:\n",
    "                word=lemma(word)\n",
    "                if word not in STOP_WORDS:\n",
    "                    if word not in inverted_index:\n",
    "                        word_dict = {k:1}\n",
    "                        inverted_index[word] = word_dict\n",
    "                    else:\n",
    "                        if k in inverted_index[word]:\n",
    "                            inverted_index[word][k] += 1\n",
    "                        else:\n",
    "                            word_dict = {k:1}\n",
    "                            inverted_index[word].update(word_dict)\n"
   ]
  },
  {
   "cell_type": "code",
   "execution_count": null,
   "metadata": {},
   "outputs": [],
   "source": [
    "with open('title_links.json') as f:\n",
    "    title_link = json.load(f)"
   ]
  },
  {
   "cell_type": "code",
   "execution_count": null,
   "metadata": {
    "scrolled": false
   },
   "outputs": [],
   "source": [
    "#sort frequencies for each key words\n",
    "all_queries = []\n",
    "final_list = []\n",
    "for k,v in inverted_index.items():\n",
    "    sorted_tuples = sorted(v.items(), key=lambda item: -item[1])\n",
    "    for elem in sorted_tuples:\n",
    "        temp_dict = {}\n",
    "        temp_dict[\"counts\"] = elem[1]\n",
    "        temp_dict[\"query\"] = k\n",
    "        if k not in all_queries:\n",
    "            all_queries.append(k)\n",
    "        temp_dict[\"title\"] = elem[0]\n",
    "        for i in title_link:\n",
    "            if i['title'] == elem[0]:\n",
    "                temp_dict[\"link\"] = i['link']\n",
    "        \n",
    "        #avoid a dict if missing keys\n",
    "        if \"link\" in temp_dict and \"title\" in temp_dict and \"query\" in temp_dict and \"counts\" in temp_dict: \n",
    "            final_list.append(temp_dict)    "
   ]
  },
  {
   "cell_type": "code",
   "execution_count": null,
   "metadata": {},
   "outputs": [],
   "source": [
    "print(len(final_list))\n",
    "print(len(all_queries))"
   ]
  },
  {
   "cell_type": "code",
   "execution_count": null,
   "metadata": {},
   "outputs": [],
   "source": [
    "with open(\"inverted_index_words.json\", \"w\") as outfile:  \n",
    "    json.dump(final_list, outfile)"
   ]
  },
  {
   "cell_type": "code",
   "execution_count": null,
   "metadata": {},
   "outputs": [],
   "source": []
  }
 ],
 "metadata": {
  "hide_input": false,
  "kernelspec": {
   "display_name": "Python 3",
   "language": "python",
   "name": "python3"
  },
  "language_info": {
   "codemirror_mode": {
    "name": "ipython",
    "version": 3
   },
   "file_extension": ".py",
   "mimetype": "text/x-python",
   "name": "python",
   "nbconvert_exporter": "python",
   "pygments_lexer": "ipython3",
   "version": "3.7.4"
  },
  "varInspector": {
   "cols": {
    "lenName": 16,
    "lenType": 16,
    "lenVar": 40
   },
   "kernels_config": {
    "python": {
     "delete_cmd_postfix": "",
     "delete_cmd_prefix": "del ",
     "library": "var_list.py",
     "varRefreshCmd": "print(var_dic_list())"
    },
    "r": {
     "delete_cmd_postfix": ") ",
     "delete_cmd_prefix": "rm(",
     "library": "var_list.r",
     "varRefreshCmd": "cat(var_dic_list()) "
    }
   },
   "types_to_exclude": [
    "module",
    "function",
    "builtin_function_or_method",
    "instance",
    "_Feature"
   ],
   "window_display": false
  }
 },
 "nbformat": 4,
 "nbformat_minor": 4
}
