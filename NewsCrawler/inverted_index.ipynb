{
 "cells": [
  {
   "cell_type": "code",
   "execution_count": 1,
   "metadata": {},
   "outputs": [],
   "source": [
    "import json\n",
    "from urllib.request import urlopen\n",
    "from bs4 import BeautifulSoup\n",
    "import re\n",
    "from collections import defaultdict"
   ]
  },
  {
   "cell_type": "code",
   "execution_count": 2,
   "metadata": {},
   "outputs": [
    {
     "name": "stderr",
     "output_type": "stream",
     "text": [
      "[nltk_data] Downloading package stopwords to\n",
      "[nltk_data]     /Users/felicityzhao/nltk_data...\n",
      "[nltk_data]   Package stopwords is already up-to-date!\n",
      "[nltk_data] Downloading package wordnet to\n",
      "[nltk_data]     /Users/felicityzhao/nltk_data...\n",
      "[nltk_data]   Package wordnet is already up-to-date!\n"
     ]
    },
    {
     "data": {
      "text/plain": [
       "True"
      ]
     },
     "execution_count": 2,
     "metadata": {},
     "output_type": "execute_result"
    }
   ],
   "source": [
    "import nltk\n",
    "from nltk.tokenize import word_tokenize\n",
    "from nltk.stem import WordNetLemmatizer\n",
    "from sys import getsizeof\n",
    "from nltk.corpus import stopwords\n",
    "nltk.download('stopwords')\n",
    "nltk.download('wordnet')"
   ]
  },
  {
   "cell_type": "code",
   "execution_count": 3,
   "metadata": {},
   "outputs": [],
   "source": [
    "inverted_index = defaultdict(dict)\n",
    "STOP_WORDS = set(stopwords.words('english'))"
   ]
  },
  {
   "cell_type": "code",
   "execution_count": 4,
   "metadata": {},
   "outputs": [],
   "source": [
    "def lemma(word):\n",
    "    lemmatizer = WordNetLemmatizer()\n",
    "    return lemmatizer.lemmatize(word)"
   ]
  },
  {
   "cell_type": "code",
   "execution_count": 5,
   "metadata": {},
   "outputs": [
    {
     "ename": "SyntaxError",
     "evalue": "(unicode error) 'unicodeescape' codec can't decode bytes in position 0-1: truncated \\uXXXX escape (<ipython-input-5-a688eeca6cb5>, line 8)",
     "output_type": "error",
     "traceback": [
      "\u001b[0;36m  File \u001b[0;32m\"<ipython-input-5-a688eeca6cb5>\"\u001b[0;36m, line \u001b[0;32m8\u001b[0m\n\u001b[0;31m    k = k.replace('\\u', ' ')\u001b[0m\n\u001b[0m                 ^\u001b[0m\n\u001b[0;31mSyntaxError\u001b[0m\u001b[0;31m:\u001b[0m (unicode error) 'unicodeescape' codec can't decode bytes in position 0-1: truncated \\uXXXX escape\n"
     ]
    }
   ],
   "source": [
    "#Read json file\n",
    "news_json = open(\"title_links.json\")\n",
    "news = json.load(news_json)\n",
    "for k, v in news.items():\n",
    "    url = \"https://www.ucihealth.org\" + v\n",
    "    html = urlopen(url)\n",
    "    soup = BeautifulSoup(html)\n",
    "    k = k.replace('\\u', ' ')\n",
    "    \n",
    "    #Fetch Contents\n",
    "    contents = soup.find_all('p')\n",
    "    article = []\n",
    "    for c in contents:\n",
    "        elem = c.get_text(strip=True)\n",
    "        elem = elem.replace('\\xa0', ' ')\n",
    "        if elem != '':\n",
    "            article.append(elem)\n",
    "    \n",
    "    #all_text to lower case, split by nonalphanumeric characters\n",
    "    for text in article:\n",
    "        text = re.sub(r'[^a-z0-9]', ' ', text.lower())\n",
    "        \n",
    "        for word in text.split():\n",
    "            if len(word) > 2:\n",
    "                word=lemma(word)\n",
    "                if word not in STOP_WORDS:\n",
    "                    if word not in inverted_index:\n",
    "                        word_dict = {k:1}\n",
    "                        inverted_index[word] = word_dict\n",
    "                    else:\n",
    "                        if k in inverted_index[word]:\n",
    "                            inverted_index[word][k] += 1\n",
    "                        else:\n",
    "                            word_dict = {k:1}\n",
    "                            inverted_index[word].update(word_dict)\n",
    "\n"
   ]
  },
  {
   "cell_type": "code",
   "execution_count": null,
   "metadata": {
    "scrolled": false
   },
   "outputs": [],
   "source": [
    "#sort frequencies for each key words\n",
    "final_dict = defaultdict(list)\n",
    "for k,v in inverted_index.items():\n",
    "    sorted_tuples = sorted(v.items(), key=lambda item: -item[1])\n",
    "    final_dict[k] = sorted_tuples\n",
    "    "
   ]
  },
  {
   "cell_type": "code",
   "execution_count": null,
   "metadata": {},
   "outputs": [],
   "source": [
    "with open(\"inverted_index_words.json\", \"w\") as outfile:  \n",
    "    json.dump(final_dict, outfile)"
   ]
  },
  {
   "cell_type": "code",
   "execution_count": null,
   "metadata": {},
   "outputs": [],
   "source": []
  }
 ],
 "metadata": {
  "hide_input": false,
  "kernelspec": {
   "display_name": "Python 3",
   "language": "python",
   "name": "python3"
  },
  "language_info": {
   "codemirror_mode": {
    "name": "ipython",
    "version": 3
   },
   "file_extension": ".py",
   "mimetype": "text/x-python",
   "name": "python",
   "nbconvert_exporter": "python",
   "pygments_lexer": "ipython3",
   "version": "3.7.4"
  },
  "varInspector": {
   "cols": {
    "lenName": 16,
    "lenType": 16,
    "lenVar": 40
   },
   "kernels_config": {
    "python": {
     "delete_cmd_postfix": "",
     "delete_cmd_prefix": "del ",
     "library": "var_list.py",
     "varRefreshCmd": "print(var_dic_list())"
    },
    "r": {
     "delete_cmd_postfix": ") ",
     "delete_cmd_prefix": "rm(",
     "library": "var_list.r",
     "varRefreshCmd": "cat(var_dic_list()) "
    }
   },
   "types_to_exclude": [
    "module",
    "function",
    "builtin_function_or_method",
    "instance",
    "_Feature"
   ],
   "window_display": false
  }
 },
 "nbformat": 4,
 "nbformat_minor": 4
}
